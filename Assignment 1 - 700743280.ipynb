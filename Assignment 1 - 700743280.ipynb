{
 "cells": [
  {
   "cell_type": "code",
   "execution_count": 1,
   "id": "50b93535",
   "metadata": {},
   "outputs": [
    {
     "name": "stdout",
     "output_type": "stream",
     "text": [
      "Ages list after sorting: [19, 19, 20, 22, 24, 24, 24, 25, 25, 26]\n",
      "Maximum age is 26\n",
      "Minimum age is 19\n",
      "Ages list after appending maximum and minimum is [19, 19, 20, 22, 24, 24, 24, 25, 25, 26, 26, 19]\n",
      "Median is 24\n",
      "Average of ages is 22.75\n",
      "Range of ages is 7\n"
     ]
    }
   ],
   "source": [
    "# Question 1\n",
    "ages = [19, 22, 19, 24, 20, 25, 26, 24, 25, 24]\n",
    "\n",
    "ages.sort() #Sorting Ages array\n",
    "print(\"Ages list after sorting:\",ages);\n",
    "minimum=ages[0]\n",
    "maximum=ages[-1]\n",
    "print(\"Maximum age is\",maximum)\n",
    "print(\"Minimum age is\",minimum)\n",
    "ages.append(maximum)\n",
    "ages.append(minimum)\n",
    "print(\"Ages list after appending maximum and minimum is\",ages)\n",
    "length=len(ages)\n",
    "#If length is odd then median is middle element else average of two middle elements\n",
    "if(length%2!=0):\n",
    "    print(\"Median is\",ages[length//2])\n",
    "else:\n",
    "    print(\"Median is\",(ages[length//2]+ages[length//2+1])//2)\n",
    "average=sum(ages)\n",
    "print(\"Average of ages is\",average/len(ages))\n",
    "range=maximum-minimum\n",
    "print(\"Range of ages is\",range)"
   ]
  },
  {
   "cell_type": "code",
   "execution_count": 4,
   "id": "77ae4ab6",
   "metadata": {
    "scrolled": true
   },
   "outputs": [
    {
     "name": "stdout",
     "output_type": "stream",
     "text": [
      "Dog dictonary is {'name': 'lab', 'age': 10, 'breed': 'labrador', 'legs': 4}\n",
      "Student dictionary is {'first_name': 'Sai Nikhil Reddy', 'last_name': 'Vatti', 'gender': 'male', 'age': 22, 'marital_status': 'single', 'skills': ['Java', 'Python', 'C', 'Javascript'], 'country': 'India', 'city': 'Khammam', 'Address': 'Khammam'}\n",
      "The length of student dictionary is 9\n",
      "The datatype of value of skills is  <class 'list'>\n",
      "The dictonary keys as list is ['first_name', 'last_name', 'gender', 'age', 'marital_status', 'skills', 'country', 'city', 'Address']\n",
      "The dictonary keys as list is ['Sai Nikhil Reddy', 'Vatti', 'male', 22, 'single', ['Java', 'Python', 'C', 'Javascript', 'HTML'], 'India', 'Khammam', 'Khammam']\n"
     ]
    }
   ],
   "source": [
    "#Question 2\n",
    "dog={} #Empty Dictonary\n",
    "dog['name']='lab'\n",
    "dog['age']=10\n",
    "dog['breed']='labrador'\n",
    "dog['legs']=4\n",
    "print(\"Dog dictonary is\",dog)\n",
    "\n",
    "#Empty student dict\n",
    "student={}\n",
    "#Adding student details to dict\n",
    "student[\"first_name\"]='Sai Nikhil Reddy'\n",
    "student[\"last_name\"]='Vatti'\n",
    "student[\"gender\"]='male'\n",
    "student[\"age\"]=22\n",
    "student[\"marital_status\"]='single'\n",
    "student['skills']=['Java',\"Python\",\"C\",\"Javascript\"]\n",
    "student[\"country\"]=\"India\"\n",
    "student['city']=\"Khammam\"\n",
    "student[\"Address\"]=\"Khammam\"\n",
    "\n",
    "print(\"Student dictionary is\",student)\n",
    "print(\"The length of student dictionary is\",len(student))\n",
    "print(\"The datatype of value of skills is \",type(student['skills']))\n",
    "#Appending HTML to skills list\n",
    "student['skills'].append('HTML') \n",
    "print(\"The dictonary keys as list is\",list(student.keys()))\n",
    "print(\"The dictonary keys as list is\",list(student.values()))"
   ]
  },
  {
   "cell_type": "code",
   "execution_count": 5,
   "id": "f7feac59",
   "metadata": {},
   "outputs": [
    {
     "name": "stdout",
     "output_type": "stream",
     "text": [
      "Siblings: ('Soumya', 'Sohila', 'Deepak', 'Vamshi')\n",
      "Number of sibilings: 4\n",
      "Family members: ('Soumya', 'Sohila', 'Deepak', 'Vamshi', 'Srinivas', 'Sailaja')\n"
     ]
    }
   ],
   "source": [
    "#Question 3\n",
    "siblings=()\n",
    "sisters=('Soumya','Sohila') #Sibiling Tuple\n",
    "brothers=('Deepak','Vamshi') #Brothers Tuple\n",
    "siblings=sisters+brothers # Merging tuples\n",
    "print(\"Siblings:\",siblings)\n",
    "print(\"Number of sibilings:\",len(siblings))\n",
    "family_members=siblings+('Srinivas',\"Sailaja\")\n",
    "print(\"Family members:\", family_members)"
   ]
  },
  {
   "cell_type": "code",
   "execution_count": 6,
   "id": "ed843d0a",
   "metadata": {},
   "outputs": [
    {
     "name": "stdout",
     "output_type": "stream",
     "text": [
      "Length of the set it_companies is 7\n",
      "It_companies after adding twitter: {'Apple', 'Amazon', 'Google', 'Oracle', 'Twitter', 'IBM', 'Microsoft', 'Facebook'}\n",
      "it_companies after adding Netflix,TCS,Infosys: {'Apple', 'Google', 'Netflix', 'Twitter', 'IBM', 'Oracle', 'Microsoft', 'Facebook', 'Amazon', 'Infosys', 'TCS'}\n",
      "it_companies after removing Netflix : {'Apple', 'Google', 'Twitter', 'IBM', 'Oracle', 'Microsoft', 'Facebook', 'Amazon', 'Infosys', 'TCS'}\n",
      "Join of A and B: {19, 20, 22, 24, 25, 26, 27, 28}\n",
      "A intersection B: {19, 20, 22, 24, 25, 26}\n",
      "Is A subset of B: True\n",
      "Are A and B disjoint sets: False\n",
      "A union B : {19, 20, 22, 24, 25, 26, 27, 28}\n",
      "B union A : {19, 20, 22, 24, 25, 26, 27, 28}\n",
      "Systemric difference between A and B: {27, 28}\n",
      "A after deletion: None\n",
      "B after deletion: None\n",
      "it_companies after deletion: None\n",
      "Length of age as list: 8\n",
      "Length of age after coverting to set: 5\n"
     ]
    }
   ],
   "source": [
    "#Question 4\n",
    "it_companies = {'Facebook', 'Google', 'Microsoft', 'Apple', 'IBM', 'Oracle', 'Amazon'}\n",
    "A = {19, 22, 24, 20, 25, 26}\n",
    "B = {19, 22, 20, 25, 26, 24, 28, 27}\n",
    "age = [22, 19, 24, 25, 26, 24, 25, 24]\n",
    "print(\"Length of the set it_companies is\",len(it_companies))\n",
    "#Adding twitter to it_companies\n",
    "it_companies.add('Twitter')\n",
    "print(\"It_companies after adding twitter:\",it_companies)\n",
    "# Adding Netflix,TCS,Infosys to it_companies\n",
    "it_companies.update({'Netflix','TCS',\"Infosys\"})\n",
    "print(\"it_companies after adding Netflix,TCS,Infosys:\",it_companies)\n",
    "# Removing Netflix from it_companies\n",
    "it_companies.remove('Netflix')\n",
    "print(\"it_companies after removing Netflix :\",it_companies)\n",
    "#The discard() removes element from set and remove() does the same work but if the element is not present in then remove() raises a error.\n",
    "print(\"Join of A and B:\",A.union(B))\n",
    "print(\"A intersection B:\",A.intersection(B))\n",
    "print(\"Is A subset of B:\",A.issubset(B))\n",
    "print(\"Are A and B disjoint sets:\",A.isdisjoint(B))\n",
    "print(\"A union B :\",A.union(B))\n",
    "print(\"B union A :\",B.union(A))\n",
    "print(\"Systemric difference between A and B:\",A.symmetric_difference(B))\n",
    "print(\"A after deletion:\",A.clear())\n",
    "print(\"B after deletion:\",B.clear())\n",
    "print(\"it_companies after deletion:\",it_companies.clear())\n",
    "print(\"Length of age as list:\",len(age))\n",
    "print(\"Length of age after coverting to set:\",len(set(age)))\n",
    "# Length of age as list is greater than after converting to set"
   ]
  },
  {
   "cell_type": "code",
   "execution_count": 64,
   "id": "3deaf7ad",
   "metadata": {},
   "outputs": [
    {
     "name": "stdout",
     "output_type": "stream",
     "text": [
      "Area of circle is: 3069.0000000000005\n",
      "Circumference of circle is: 204.60000000000002\n",
      "Enter Radius 5\n",
      "Area of circle with radius 5 is 85.25\n"
     ]
    }
   ],
   "source": [
    "#Question 5\n",
    "radius=30\n",
    "# Area of circle\n",
    "_area_of_circle_=3.41*radius*radius\n",
    "print(\"Area of circle is:\",_area_of_circle_)\n",
    "_circum_of_circle_=2*3.41*radius\n",
    "print(\"Circumference of circle is:\",_circum_of_circle_)\n",
    "rad=int(input(\"Enter Radius \"))\n",
    "print(\"Area of circle with radius {0} is {1}\".format(rad,3.41*rad*rad))"
   ]
  },
  {
   "cell_type": "code",
   "execution_count": 65,
   "id": "9c59fd5b",
   "metadata": {},
   "outputs": [
    {
     "name": "stdout",
     "output_type": "stream",
     "text": [
      "Number of unique words in given sentence:  10\n"
     ]
    }
   ],
   "source": [
    "#Question 6\n",
    "sentence='I am a teacher and I love to inspire and teach people'\n",
    "#split() generates an array of words after splitting given sentence\n",
    "word_array=sentence.split(' ')\n",
    "#set of words in the given sentence\n",
    "word_set=set(word_array);\n",
    "print(\"Number of unique words in given sentence: \",len(word_set))"
   ]
  },
  {
   "cell_type": "code",
   "execution_count": 14,
   "id": "c17b26bc",
   "metadata": {},
   "outputs": [
    {
     "name": "stdout",
     "output_type": "stream",
     "text": [
      "Name\t\tAge\tCountry\t\tCity\n",
      "Asabeneh\t250\tFinland\t\tHelsinki\n"
     ]
    }
   ],
   "source": [
    "#Question 7\n",
    "print('Name\\t\\tAge\\tCountry\\t\\tCity')\n",
    "print('Asabeneh\\t250\\tFinland\\t\\tHelsinki')"
   ]
  },
  {
   "cell_type": "code",
   "execution_count": 3,
   "id": "a1b8243b",
   "metadata": {},
   "outputs": [
    {
     "name": "stdout",
     "output_type": "stream",
     "text": [
      "The area of a circle with radius 10 is 314.0 meters square.\n"
     ]
    }
   ],
   "source": [
    "#Question 8\n",
    "radius=10\n",
    "area=3.14*radius*radius\n",
    "#Using string formating method to print area\n",
    "print('The area of a circle with radius 10 is {0} meters square.'.format(area))"
   ]
  },
  {
   "cell_type": "code",
   "execution_count": 7,
   "id": "ec90c57d",
   "metadata": {},
   "outputs": [
    {
     "name": "stdout",
     "output_type": "stream",
     "text": [
      "Enter number of students5\n",
      "150\n",
      "160\n",
      "170\n",
      "180\n",
      "190\n",
      "Weights after converting to kgs, [68.04, 72.58, 77.11, 81.65, 86.18]\n"
     ]
    }
   ],
   "source": [
    "#Question 9\n",
    "#Pounds list\n",
    "lbs_list=[]\n",
    "n=int(input(\"Enter number of students\"))\n",
    "for i in range(n):\n",
    "    lbs_list.append(int(input()))\n",
    "#Kilogram List\n",
    "kgs_list=[]\n",
    "for i in lbs_list:\n",
    "    kgs_list.append(round(i/2.2046,2))\n",
    "print(\"Weights after converting to kgs,\",kgs_list)\n"
   ]
  },
  {
   "cell_type": "code",
   "execution_count": null,
   "id": "0e447a18",
   "metadata": {},
   "outputs": [],
   "source": []
  }
 ],
 "metadata": {
  "kernelspec": {
   "display_name": "Python 3 (ipykernel)",
   "language": "python",
   "name": "python3"
  },
  "language_info": {
   "codemirror_mode": {
    "name": "ipython",
    "version": 3
   },
   "file_extension": ".py",
   "mimetype": "text/x-python",
   "name": "python",
   "nbconvert_exporter": "python",
   "pygments_lexer": "ipython3",
   "version": "3.9.12"
  }
 },
 "nbformat": 4,
 "nbformat_minor": 5
}
